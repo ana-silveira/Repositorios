{
 "cells": [
  {
   "cell_type": "code",
   "execution_count": null,
   "metadata": {},
   "outputs": [],
   "source": []
  },
  {
   "cell_type": "markdown",
   "metadata": {},
   "source": [
    "#Ship's Instruction Manual"
   ]
  }
 ],
 "metadata": {
  "kernelspec": {
   "display_name": "Python 3.10.5 64-bit",
   "language": "python",
   "name": "python3"
  },
  "language_info": {
   "name": "python",
   "version": "3.10.5"
  },
  "orig_nbformat": 4,
  "vscode": {
   "interpreter": {
    "hash": "9133b8b5d84a1735604583a1a1c6e3e8f92c372edb4af1b624b4e793d168e89d"
   }
  }
 },
 "nbformat": 4,
 "nbformat_minor": 2
}
